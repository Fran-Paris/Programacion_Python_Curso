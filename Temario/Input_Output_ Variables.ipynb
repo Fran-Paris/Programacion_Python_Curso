{
 "cells": [
  {
   "attachments": {},
   "cell_type": "markdown",
   "metadata": {},
   "source": [
    "# Input Output & Variables"
   ]
  },
  {
   "attachments": {},
   "cell_type": "markdown",
   "metadata": {},
   "source": [
    "### Imprimir Textos"
   ]
  },
  {
   "cell_type": "code",
   "execution_count": 7,
   "metadata": {},
   "outputs": [
    {
     "name": "stdout",
     "output_type": "stream",
     "text": [
      "Hola Mundo\n",
      "Hellow World\n"
     ]
    }
   ],
   "source": [
    "# Función imprimir textos\n",
    "\n",
    "print(\"Hola Mundo\")\n",
    "print( \"Hellow World\")"
   ]
  },
  {
   "attachments": {},
   "cell_type": "markdown",
   "metadata": {},
   "source": [
    "### Introducir Variables"
   ]
  },
  {
   "attachments": {},
   "cell_type": "markdown",
   "metadata": {},
   "source": [
    "*Interacionando con el programa introducir variables de forma manual*"
   ]
  },
  {
   "cell_type": "code",
   "execution_count": 8,
   "metadata": {},
   "outputs": [
    {
     "data": {
      "text/plain": [
       "'60'"
      ]
     },
     "execution_count": 8,
     "metadata": {},
     "output_type": "execute_result"
    }
   ],
   "source": [
    "# Preguntar para introducir un imput\n",
    "# No imprime la respuesta solo la toma\n",
    "input(\"Introduce tu edad: \")"
   ]
  },
  {
   "cell_type": "code",
   "execution_count": 9,
   "metadata": {},
   "outputs": [
    {
     "name": "stdout",
     "output_type": "stream",
     "text": [
      "70\n"
     ]
    }
   ],
   "source": [
    "#Imprime el imput introducido.\n",
    "\n",
    "print(input(\"cuantos años tienes?: \"))\n"
   ]
  },
  {
   "cell_type": "code",
   "execution_count": 11,
   "metadata": {},
   "outputs": [
    {
     "name": "stdout",
     "output_type": "stream",
     "text": [
      "Era una tarde lluviosa de abril\n",
      "Tras varias semanas lloviendo\n",
      "nuestro protragonista continuó\n"
     ]
    }
   ],
   "source": [
    "#Hacer una pausa en la ejecución\n",
    "print(\"Era una tarde lluviosa de abril\")\n",
    "print(\"Tras varias semanas lloviendo\")\n",
    "input(\"...Presiona intro para continuar\")\n",
    "print(\"nuestro protragonista continuó\")"
   ]
  },
  {
   "attachments": {},
   "cell_type": "markdown",
   "metadata": {},
   "source": [
    "*Almacenamiento de inputs en variables*"
   ]
  },
  {
   "cell_type": "code",
   "execution_count": 19,
   "metadata": {},
   "outputs": [
    {
     "name": "stdout",
     "output_type": "stream",
     "text": [
      "Alfredo\n",
      "Alfredo tiene un Pico\n",
      "Imprimo un numero entero 6\n"
     ]
    }
   ],
   "source": [
    "# Introducción de variables dentro del codigo\n",
    "\n",
    "nombre=\"Alfredo\"\n",
    "herramienta=\"Pico\"\n",
    "numero=6\n",
    "decimal=1.2\n",
    "\n",
    "# Impresión de las variables\n",
    "print(nombre)\n",
    "print(nombre +\" tiene un \" + herramienta)\n",
    "print(\"Imprimo un numero entero \" + str(numero))\n"
   ]
  },
  {
   "cell_type": "code",
   "execution_count": 24,
   "metadata": {},
   "outputs": [
    {
     "name": "stdout",
     "output_type": "stream",
     "text": [
      "Hola \n"
     ]
    }
   ],
   "source": [
    "#Introducto variables desde fuera del codigo\n",
    "\n",
    "nombre = input(\"¿Como te llamas? \")\n",
    "print( \"Hola \" + nombre)\n"
   ]
  },
  {
   "attachments": {},
   "cell_type": "markdown",
   "metadata": {},
   "source": [
    "### Variables y tipos de variables"
   ]
  },
  {
   "cell_type": "code",
   "execution_count": 10,
   "metadata": {},
   "outputs": [
    {
     "name": "stdout",
     "output_type": "stream",
     "text": [
      "<class 'str'>\n",
      "Francisco\n",
      "<class 'float'>\n",
      "5.8\n",
      "<class 'int'>\n",
      "5\n",
      "6 33.45 Yo 33.45\n"
     ]
    }
   ],
   "source": [
    "#Primeras variables a tratar\n",
    "\n",
    "#String\n",
    "name = \"Francisco\"\n",
    "print(type(name))\n",
    "print(name)\n",
    "\n",
    "#Decimal o flotante\n",
    "decimal= 5.8\n",
    "print(type(decimal))\n",
    "print(decimal)\n",
    "\n",
    "#Entero o integer\n",
    "number = 5\n",
    "print(type(number))\n",
    "print(number)\n",
    "\n",
    "#Tambien podemos crear varias variables de forma simultanea separandolos por comas\n",
    "\n",
    "numero, nombre, decimal = 6, \"Yo\", 33.45\n",
    "print( numero, decimal,  nombre, decimal)\n",
    "\n"
   ]
  },
  {
   "attachments": {},
   "cell_type": "markdown",
   "metadata": {},
   "source": [
    "### Operaciones con variables"
   ]
  },
  {
   "cell_type": "code",
   "execution_count": 15,
   "metadata": {},
   "outputs": [
    {
     "name": "stdout",
     "output_type": "stream",
     "text": [
      "5 6\n",
      "11\n",
      "HolaMundo\n",
      "Hola Mundo\n",
      "Hola Mundo\n"
     ]
    }
   ],
   "source": [
    "#Podemos realizar operaciones con variables nuemericas\n",
    "\n",
    "numero1, numero2 = 5, 6\n",
    "print(numero1, numero2)\n",
    "print(numero1+numero2)\n",
    "\n",
    "#Tambien podemos operar con string, l\n",
    "\n",
    "word1, word2 = \"Hola\", \"Mundo\"\n",
    "print(word1+word2)\n",
    "print(word1+\" \"+word2)\n",
    "\n",
    "#si imprimos las variables con \",\" se llama concatenar\n",
    "print(word1, word2)"
   ]
  },
  {
   "cell_type": "code",
   "execution_count": 22,
   "metadata": {},
   "outputs": [
    {
     "name": "stdout",
     "output_type": "stream",
     "text": [
      "Primer nuemero= 10\n",
      "Segundo nuemero= 15\n",
      "<class 'str'>\n",
      "<class 'str'>\n",
      "1015\n",
      "<class 'int'>\n",
      "<class 'int'>\n",
      "25\n"
     ]
    }
   ],
   "source": [
    "#Introducción mediante el teclado por el usuario. \n",
    "#Python considera todas las variables introducidas como string\n",
    "\n",
    "numero1 = input(\"Introduc el primer numero: \")\n",
    "numero2 = input(\"Introduce el segundo numero: \")\n",
    "print( \"Primer nuemero= \" + numero1)\n",
    "print( \"Segundo nuemero= \" + numero2)\n",
    "print(type(numero1))\n",
    "print(type(numero2))\n",
    "print( numero1+numero2)\n",
    "\n",
    "#Para guardarlos como numeros hay que utilizar la función\n",
    "\n",
    "numero1=int(numero1)\n",
    "numero2= int(numero2)\n",
    "\n",
    "print(type(numero1))\n",
    "print(type(numero2))\n",
    "\n",
    "print( numero1+numero2)\n",
    "\n",
    "\n"
   ]
  },
  {
   "attachments": {},
   "cell_type": "markdown",
   "metadata": {},
   "source": [
    "### Operaciones Matemáticas con variables"
   ]
  },
  {
   "attachments": {},
   "cell_type": "markdown",
   "metadata": {},
   "source": [
    "# Imprimir texto\n",
    "print (\"texto\")\n",
    "\n",
    "# Imprimir texto introducido por el usuario\n",
    "print (input (\"texto\"))\n",
    "\n",
    "# Declarar variable\n",
    "name = \"Nombre\"\n",
    "number = 6\n",
    "\n",
    "# Ver el tipo de una variable\n",
    "type (nombre_variable)\n",
    "\n",
    "# Guardar respuesta de usuario en variable\n",
    "respuesta = input (\"Pregunta\")\n",
    "# Sumar dos variables y guardar resultado en nueva variable\n",
    "suma = variable1 + variable2\n",
    "# Declarar varias variables simultáneamente\n",
    "variable1, variable2 = \"texto\", numero\n",
    "# Operaciones matemáticas\n",
    "# Multiplicación\n",
    "numero * numero\n",
    "# División\n",
    "numero / numero\n",
    "# Suma\n",
    "numero + numero\n",
    "# Resta\n",
    "numero – numero\n",
    "# Potencia\n",
    "numero ** numero\n",
    "# Parte entera de una división\n",
    "numero // numero\n",
    "# Resto de una división\n",
    "numero % numero\n",
    "# Redondear un número\n",
    "round (numero)\n",
    "# Redondear a una serie de decimales\n",
    "round (numero, decimales)\n",
    "# Truncar\n",
    "from math import floor\n",
    "floor (numero)\n",
    "# Redondear al número superior\n",
    "from math import ceil\n",
    "ceil (numero)"
   ]
  },
  {
   "cell_type": "code",
   "execution_count": 25,
   "metadata": {},
   "outputs": [
    {
     "name": "stdout",
     "output_type": "stream",
     "text": [
      "texto\n",
      "45\n",
      "45\n",
      "30\n"
     ]
    },
    {
     "data": {
      "text/plain": [
       "11"
      ]
     },
     "execution_count": 25,
     "metadata": {},
     "output_type": "execute_result"
    }
   ],
   "source": [
    "# Imprimir texto\n",
    "print (\"texto\")\n",
    "\n",
    "# Imprimir texto introducido por el usuario\n",
    "print (input (\"texto: \"))\n",
    "\n",
    "# Declarar variable\n",
    "name = \"Nombre\"\n",
    "number = 6\n",
    "\n",
    "# Ver el tipo de una variable\n",
    "type (name)\n",
    "type (number)\n",
    "\n",
    "# Guardar respuesta de usuario en variable\n",
    "respuesta = input (\"Pregunta: \")\n",
    "print (respuesta)\n",
    "\n",
    "# Sumar dos variables y guardar resultado en nueva variable\n",
    "variable1, variable2 = 10,20\n",
    "suma = variable1 + variable2\n",
    "print(suma)\n",
    "\n",
    "# Declarar varias variables simultáneamente\n",
    "variable1, variable2 = \"texto\", 20\n",
    "# Operaciones matemáticas\n",
    "numero1, numero2= 10, 5\n",
    "# Multiplicación\n",
    "numero1 * numero2\n",
    "# División\n",
    "numero1 / numero2\n",
    "# Suma\n",
    "numero1 + numero2\n",
    "# Resta\n",
    "numero1 - numero2\n",
    "# Potencia\n",
    "numero1 ** numero2\n",
    "# Parte entera de una división\n",
    "numero1 // numero2\n",
    "# Resto de una división\n",
    "numero1 % numero2\n",
    "# Redondear un número\n",
    "numero1= 10.5678997\n",
    "round (numero1)\n",
    "# Redondear a una serie de decimales\n",
    "round (numero1, 2)\n",
    "# Truncar\n",
    "from math import floor\n",
    "floor (numero1)\n",
    "# Redondear al número superior\n",
    "from math import ceil\n",
    "ceil (numero1)"
   ]
  }
 ],
 "metadata": {
  "kernelspec": {
   "display_name": "venv",
   "language": "python",
   "name": "python3"
  },
  "language_info": {
   "codemirror_mode": {
    "name": "ipython",
    "version": 3
   },
   "file_extension": ".py",
   "mimetype": "text/x-python",
   "name": "python",
   "nbconvert_exporter": "python",
   "pygments_lexer": "ipython3",
   "version": "3.10.5 (tags/v3.10.5:f377153, Jun  6 2022, 16:14:13) [MSC v.1929 64 bit (AMD64)]"
  },
  "orig_nbformat": 4,
  "vscode": {
   "interpreter": {
    "hash": "900a2bdbf02fae14f99e4ea765547938e2836610615272e080bf3b4e880f885d"
   }
  }
 },
 "nbformat": 4,
 "nbformat_minor": 2
}
