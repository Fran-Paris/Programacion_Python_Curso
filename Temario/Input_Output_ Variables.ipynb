{
 "cells": [
  {
   "attachments": {},
   "cell_type": "markdown",
   "metadata": {},
   "source": [
    "# Input Output & Variables"
   ]
  },
  {
   "attachments": {},
   "cell_type": "markdown",
   "metadata": {},
   "source": [
    "### Imprimir Textos"
   ]
  },
  {
   "cell_type": "code",
   "execution_count": 7,
   "metadata": {},
   "outputs": [
    {
     "name": "stdout",
     "output_type": "stream",
     "text": [
      "Hola Mundo\n",
      "Hellow World\n"
     ]
    }
   ],
   "source": [
    "# Función imprimir textos\n",
    "\n",
    "print(\"Hola Mundo\")\n",
    "print( \"Hellow World\")"
   ]
  },
  {
   "attachments": {},
   "cell_type": "markdown",
   "metadata": {},
   "source": [
    "### Introducir Variables"
   ]
  },
  {
   "attachments": {},
   "cell_type": "markdown",
   "metadata": {},
   "source": [
    "*Interacionando con el programa introducir variables de forma manual*"
   ]
  },
  {
   "cell_type": "code",
   "execution_count": 8,
   "metadata": {},
   "outputs": [
    {
     "data": {
      "text/plain": [
       "'60'"
      ]
     },
     "execution_count": 8,
     "metadata": {},
     "output_type": "execute_result"
    }
   ],
   "source": [
    "# Preguntar para introducir un imput\n",
    "# No imprime la respuesta solo la toma\n",
    "input(\"Introduce tu edad: \")"
   ]
  },
  {
   "cell_type": "code",
   "execution_count": 9,
   "metadata": {},
   "outputs": [
    {
     "name": "stdout",
     "output_type": "stream",
     "text": [
      "70\n"
     ]
    }
   ],
   "source": [
    "#Imprime el imput introducido.\n",
    "\n",
    "print(input(\"cuantos años tienes?: \"))\n"
   ]
  },
  {
   "cell_type": "code",
   "execution_count": 11,
   "metadata": {},
   "outputs": [
    {
     "name": "stdout",
     "output_type": "stream",
     "text": [
      "Era una tarde lluviosa de abril\n",
      "Tras varias semanas lloviendo\n",
      "nuestro protragonista continuó\n"
     ]
    }
   ],
   "source": [
    "#Hacer una pausa en la ejecución\n",
    "print(\"Era una tarde lluviosa de abril\")\n",
    "print(\"Tras varias semanas lloviendo\")\n",
    "input(\"...Presiona intro para continuar\")\n",
    "print(\"nuestro protragonista continuó\")"
   ]
  },
  {
   "attachments": {},
   "cell_type": "markdown",
   "metadata": {},
   "source": [
    "*Almacenamiento de inputs en variables*"
   ]
  },
  {
   "cell_type": "code",
   "execution_count": 19,
   "metadata": {},
   "outputs": [
    {
     "name": "stdout",
     "output_type": "stream",
     "text": [
      "Alfredo\n",
      "Alfredo tiene un Pico\n",
      "Imprimo un numero entero 6\n"
     ]
    }
   ],
   "source": [
    "# Introducción de variables dentro del codigo\n",
    "\n",
    "nombre=\"Alfredo\"\n",
    "herramienta=\"Pico\"\n",
    "numero=6\n",
    "decimal=1.2\n",
    "\n",
    "# Impresión de las variables\n",
    "print(nombre)\n",
    "print(nombre +\" tiene un \" + herramienta)\n",
    "print(\"Imprimo un numero entero \" + str(numero))\n"
   ]
  },
  {
   "cell_type": "code",
   "execution_count": 24,
   "metadata": {},
   "outputs": [
    {
     "name": "stdout",
     "output_type": "stream",
     "text": [
      "Hola \n"
     ]
    }
   ],
   "source": [
    "#Introducto variables desde fuera del codigo\n",
    "\n",
    "nombre = input(\"¿Como te llamas? \")\n",
    "print( \"Hola \" + nombre)\n"
   ]
  },
  {
   "attachments": {},
   "cell_type": "markdown",
   "metadata": {},
   "source": [
    "### Variables y tipos de variables"
   ]
  }
 ],
 "metadata": {
  "kernelspec": {
   "display_name": "venv",
   "language": "python",
   "name": "python3"
  },
  "language_info": {
   "codemirror_mode": {
    "name": "ipython",
    "version": 3
   },
   "file_extension": ".py",
   "mimetype": "text/x-python",
   "name": "python",
   "nbconvert_exporter": "python",
   "pygments_lexer": "ipython3",
   "version": "3.10.5 (tags/v3.10.5:f377153, Jun  6 2022, 16:14:13) [MSC v.1929 64 bit (AMD64)]"
  },
  "orig_nbformat": 4,
  "vscode": {
   "interpreter": {
    "hash": "900a2bdbf02fae14f99e4ea765547938e2836610615272e080bf3b4e880f885d"
   }
  }
 },
 "nbformat": 4,
 "nbformat_minor": 2
}
