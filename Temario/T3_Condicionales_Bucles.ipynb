{
 "cells": [
  {
   "attachments": {},
   "cell_type": "markdown",
   "metadata": {},
   "source": [
    "# ELEMENTOS DE CONTROL (CONDICIONALES Y BUCLES)"
   ]
  },
  {
   "attachments": {},
   "cell_type": "markdown",
   "metadata": {},
   "source": [
    "## Try - Except\n",
    "Nos permite intentar realizar una instrucción y, en caso de que la\n",
    "ejecución de esa instrucción produzca un error ejecutará otra instrucción que señalemos para\n",
    "tal fin. Dicha instrucción se denomina try - except. Le pediremos a Python que pruebe a\n",
    "ejecutar un código (try) y si el resultado del código es un error pasará a ejecutar el código\n",
    "contenido en el except.\n",
    "\n",
    "try:\n",
    "\n",
    "     3 + a\n",
    "\n",
    "except:\n",
    "\n",
    "     print(\"No he podido realizar la instrucción\")\n",
    "\n",
    "Las acciones deben estar indexadas y en la misma posición \n"
   ]
  },
  {
   "cell_type": "code",
   "execution_count": 2,
   "metadata": {},
   "outputs": [
    {
     "name": "stdout",
     "output_type": "stream",
     "text": [
      "No he podido realizar la instrucción\n"
     ]
    }
   ],
   "source": [
    "try:\n",
    "    3 + \"a\"\n",
    "#Error por que no puede sumar int + str\n",
    "\n",
    "except:\n",
    "    print(\"No he podido realizar la instrucción\")"
   ]
  },
  {
   "cell_type": "code",
   "execution_count": 8,
   "metadata": {},
   "outputs": [
    {
     "name": "stdout",
     "output_type": "stream",
     "text": [
      "Vamos a sumar dos nuemeros\n",
      "La suma de 10 + 8 es 18\n"
     ]
    }
   ],
   "source": [
    "print(\"Vamos a sumar dos nuemeros\")\n",
    "\n",
    "numero1 = input(\"¿Cual es el primer número?: \")\n",
    "\n",
    "try:\n",
    "    numero1 = int(numero1)\n",
    "\n",
    "except:\n",
    "    print(\"No has elegido un número\")\n",
    "    numero1= input(\"Introduce un nuemro correcto: \")\n",
    "\n",
    "numero2 = input(\"¿Cual es el primer número?: \")\n",
    "\n",
    "try:\n",
    "    numero2 = int(numero2)\n",
    "\n",
    "except:\n",
    "    print(\"No has elegido un número\")\n",
    "    numero2= input(\"Introduce un nuemro correcto: \")\n",
    "\n",
    "suma= numero1 + numero2\n",
    "\n",
    "print(\"La suma de \" + str(numero1)+\" + \" + str(numero2) +\" es \" + str(suma) )"
   ]
  }
 ],
 "metadata": {
  "kernelspec": {
   "display_name": "venv",
   "language": "python",
   "name": "python3"
  },
  "language_info": {
   "codemirror_mode": {
    "name": "ipython",
    "version": 3
   },
   "file_extension": ".py",
   "mimetype": "text/x-python",
   "name": "python",
   "nbconvert_exporter": "python",
   "pygments_lexer": "ipython3",
   "version": "3.10.5"
  },
  "orig_nbformat": 4,
  "vscode": {
   "interpreter": {
    "hash": "900a2bdbf02fae14f99e4ea765547938e2836610615272e080bf3b4e880f885d"
   }
  }
 },
 "nbformat": 4,
 "nbformat_minor": 2
}
